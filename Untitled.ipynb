{
 "cells": [
  {
   "cell_type": "code",
   "execution_count": null,
   "metadata": {},
   "outputs": [],
   "source": [
    "Pressione as teclas shift e enter para executar o código em uma célula ou pressione o botão Play no menu superior\n",
    "# Soma\n",
    "4 + 4\n",
    "# Subtração\n",
    "4 - 3\n",
    "# Subtração\n",
    "4 - 3\n",
    "# Multiplicação\n",
    "3 * 3\n",
    "# Divisão\n",
    "3 / 2\n",
    "# Potência\n",
    "4 ** 2  \n",
    "# Módulo\n",
    "10 % 3  \n",
    "Função Type\n",
    "type(5)\n",
    "type(5.0)\n",
    "a = 'Eu sou uma string'\n",
    "type(a)\n",
    "Operações com números float\n",
    "3.1 + 6.4\n",
    "4 + 4.0\n",
    "4 + 4\n",
    "# Resultado é um número float\n",
    "4 / 2\n",
    "# Resultado é um número inteiro\n",
    "4 // 2\n",
    "4 / 3.0\n",
    "4 // 3.0\n",
    "Conversão\n",
    "float(9)\n",
    "int(6.0)\n",
    "int(6.5)\n",
    "Hexadecimal e Binário\n",
    "hex(394)\n",
    "hex(217)\n",
    "bin(286)\n",
    "bin(390)\n",
    "Funções abs, round e pow\n",
    "# Retorna o valor absoluto\n",
    "abs(-8)\n",
    "# Retorna o valor absoluto\n",
    "abs(8)\n",
    "# Retorna o valor com arredondamento\n",
    "round(3.14151922,2)\n",
    "# Potência\n",
    "pow(4,2)\n",
    "# Potência\n",
    "pow(5,3)\n",
    "Fim"
   ]
  },
  {
   "cell_type": "markdown",
   "metadata": {},
   "source": [
    "Números e Operações Matemáticas"
   ]
  },
  {
   "cell_type": "code",
   "execution_count": null,
   "metadata": {},
   "outputs": [],
   "source": []
  },
  {
   "cell_type": "code",
   "execution_count": null,
   "metadata": {},
   "outputs": [],
   "source": []
  },
  {
   "cell_type": "code",
   "execution_count": null,
   "metadata": {},
   "outputs": [],
   "source": []
  },
  {
   "cell_type": "code",
   "execution_count": null,
   "metadata": {},
   "outputs": [],
   "source": []
  }
 ],
 "metadata": {
  "kernelspec": {
   "display_name": "Python 3",
   "language": "python",
   "name": "python3"
  },
  "language_info": {
   "codemirror_mode": {
    "name": "ipython",
    "version": 3
   },
   "file_extension": ".py",
   "mimetype": "text/x-python",
   "name": "python",
   "nbconvert_exporter": "python",
   "pygments_lexer": "ipython3",
   "version": "3.7.6"
  }
 },
 "nbformat": 4,
 "nbformat_minor": 4
}
